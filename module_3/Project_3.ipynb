{
 "cells": [
  {
   "cell_type": "markdown",
   "id": "6ae55dcf",
   "metadata": {},
   "source": [
    "## Импортируем необходимые бибилиотеки"
   ]
  },
  {
   "cell_type": "code",
   "execution_count": 160,
   "id": "ec7240b0",
   "metadata": {},
   "outputs": [],
   "source": [
    "import pandas as pd\n",
    "import numpy as np\n",
    "import matplotlib.pyplot as plt\n",
    "import seaborn as sns\n",
    "import re\n",
    "import missingno as msno\n",
    "\n",
    "import warnings\n",
    "warnings.filterwarnings(\"ignore\")\n",
    "\n",
    "\n",
    "from sklearn.model_selection import train_test_split\n",
    "from sklearn.ensemble import RandomForestRegressor\n",
    "from sklearn import metrics\n",
    "\n",
    "%matplotlib inline\n",
    "\n",
    "RANDOM_SEED = 42 # сразу выставим значение random_seed"
   ]
  },
  {
   "cell_type": "markdown",
   "id": "e870c435",
   "metadata": {},
   "source": [
    "## Загрузим данные для работы"
   ]
  },
  {
   "cell_type": "code",
   "execution_count": 161,
   "id": "af3146b8",
   "metadata": {},
   "outputs": [],
   "source": [
    "df_train = pd.read_csv('main_task_new.csv')\n",
    "df_test = pd.read_csv('kaggle_task.csv')\n",
    "sample_submission = pd.read_csv('sample_submission.csv')\n",
    "# Загружаем данные о городах для дальнейшего использования\n",
    "\n",
    "cities = pd.read_csv('cities.csv', sep=';')\n",
    "cities.set_index('city', inplace=True)"
   ]
  },
  {
   "cell_type": "code",
   "execution_count": 162,
   "id": "841298fe",
   "metadata": {
    "scrolled": true
   },
   "outputs": [
    {
     "name": "stdout",
     "output_type": "stream",
     "text": [
      "<class 'pandas.core.frame.DataFrame'>\n",
      "RangeIndex: 40000 entries, 0 to 39999\n",
      "Data columns (total 10 columns):\n",
      " #   Column             Non-Null Count  Dtype  \n",
      "---  ------             --------------  -----  \n",
      " 0   Restaurant_id      40000 non-null  object \n",
      " 1   City               40000 non-null  object \n",
      " 2   Cuisine Style      30717 non-null  object \n",
      " 3   Ranking            40000 non-null  float64\n",
      " 4   Rating             40000 non-null  float64\n",
      " 5   Price Range        26114 non-null  object \n",
      " 6   Number of Reviews  37457 non-null  float64\n",
      " 7   Reviews            40000 non-null  object \n",
      " 8   URL_TA             40000 non-null  object \n",
      " 9   ID_TA              40000 non-null  object \n",
      "dtypes: float64(3), object(7)\n",
      "memory usage: 3.1+ MB\n"
     ]
    },
    {
     "data": {
      "text/plain": [
       "None"
      ]
     },
     "metadata": {},
     "output_type": "display_data"
    },
    {
     "name": "stdout",
     "output_type": "stream",
     "text": [
      "<class 'pandas.core.frame.DataFrame'>\n",
      "RangeIndex: 10000 entries, 0 to 9999\n",
      "Data columns (total 9 columns):\n",
      " #   Column             Non-Null Count  Dtype  \n",
      "---  ------             --------------  -----  \n",
      " 0   Restaurant_id      10000 non-null  object \n",
      " 1   City               10000 non-null  object \n",
      " 2   Cuisine Style      7693 non-null   object \n",
      " 3   Ranking            10000 non-null  float64\n",
      " 4   Price Range        6525 non-null   object \n",
      " 5   Number of Reviews  9343 non-null   float64\n",
      " 6   Reviews            9998 non-null   object \n",
      " 7   URL_TA             10000 non-null  object \n",
      " 8   ID_TA              10000 non-null  object \n",
      "dtypes: float64(2), object(7)\n",
      "memory usage: 703.2+ KB\n"
     ]
    },
    {
     "data": {
      "text/plain": [
       "None"
      ]
     },
     "metadata": {},
     "output_type": "display_data"
    }
   ],
   "source": [
    "# Взглянем на датасеты поверхностно\n",
    "display(df_train.info())\n",
    "display(df_test.info())"
   ]
  },
  {
   "cell_type": "code",
   "execution_count": 163,
   "id": "59c27c43",
   "metadata": {
    "scrolled": true
   },
   "outputs": [
    {
     "data": {
      "text/html": [
       "<div>\n",
       "<style scoped>\n",
       "    .dataframe tbody tr th:only-of-type {\n",
       "        vertical-align: middle;\n",
       "    }\n",
       "\n",
       "    .dataframe tbody tr th {\n",
       "        vertical-align: top;\n",
       "    }\n",
       "\n",
       "    .dataframe thead th {\n",
       "        text-align: right;\n",
       "    }\n",
       "</style>\n",
       "<table border=\"1\" class=\"dataframe\">\n",
       "  <thead>\n",
       "    <tr style=\"text-align: right;\">\n",
       "      <th></th>\n",
       "      <th>Restaurant_id</th>\n",
       "      <th>City</th>\n",
       "      <th>Cuisine Style</th>\n",
       "      <th>Ranking</th>\n",
       "      <th>Rating</th>\n",
       "      <th>Price Range</th>\n",
       "      <th>Number of Reviews</th>\n",
       "      <th>Reviews</th>\n",
       "      <th>URL_TA</th>\n",
       "      <th>ID_TA</th>\n",
       "    </tr>\n",
       "  </thead>\n",
       "  <tbody>\n",
       "    <tr>\n",
       "      <th>0</th>\n",
       "      <td>id_5569</td>\n",
       "      <td>Paris</td>\n",
       "      <td>['European', 'French', 'International']</td>\n",
       "      <td>5570.0</td>\n",
       "      <td>3.5</td>\n",
       "      <td>$$ - $$$</td>\n",
       "      <td>194.0</td>\n",
       "      <td>[['Good food at your doorstep', 'A good hotel ...</td>\n",
       "      <td>/Restaurant_Review-g187147-d1912643-Reviews-R_...</td>\n",
       "      <td>d1912643</td>\n",
       "    </tr>\n",
       "  </tbody>\n",
       "</table>\n",
       "</div>"
      ],
      "text/plain": [
       "  Restaurant_id   City                            Cuisine Style  Ranking  \\\n",
       "0       id_5569  Paris  ['European', 'French', 'International']   5570.0   \n",
       "\n",
       "   Rating Price Range  Number of Reviews  \\\n",
       "0     3.5    $$ - $$$              194.0   \n",
       "\n",
       "                                             Reviews  \\\n",
       "0  [['Good food at your doorstep', 'A good hotel ...   \n",
       "\n",
       "                                              URL_TA     ID_TA  \n",
       "0  /Restaurant_Review-g187147-d1912643-Reviews-R_...  d1912643  "
      ]
     },
     "metadata": {},
     "output_type": "display_data"
    },
    {
     "data": {
      "text/html": [
       "<div>\n",
       "<style scoped>\n",
       "    .dataframe tbody tr th:only-of-type {\n",
       "        vertical-align: middle;\n",
       "    }\n",
       "\n",
       "    .dataframe tbody tr th {\n",
       "        vertical-align: top;\n",
       "    }\n",
       "\n",
       "    .dataframe thead th {\n",
       "        text-align: right;\n",
       "    }\n",
       "</style>\n",
       "<table border=\"1\" class=\"dataframe\">\n",
       "  <thead>\n",
       "    <tr style=\"text-align: right;\">\n",
       "      <th></th>\n",
       "      <th>Restaurant_id</th>\n",
       "      <th>City</th>\n",
       "      <th>Cuisine Style</th>\n",
       "      <th>Ranking</th>\n",
       "      <th>Price Range</th>\n",
       "      <th>Number of Reviews</th>\n",
       "      <th>Reviews</th>\n",
       "      <th>URL_TA</th>\n",
       "      <th>ID_TA</th>\n",
       "    </tr>\n",
       "  </thead>\n",
       "  <tbody>\n",
       "    <tr>\n",
       "      <th>0</th>\n",
       "      <td>id_0</td>\n",
       "      <td>Paris</td>\n",
       "      <td>['Bar', 'Pub']</td>\n",
       "      <td>12963.0</td>\n",
       "      <td>$$ - $$$</td>\n",
       "      <td>4.0</td>\n",
       "      <td>[[], []]</td>\n",
       "      <td>/Restaurant_Review-g187147-d10746918-Reviews-L...</td>\n",
       "      <td>d10746918</td>\n",
       "    </tr>\n",
       "  </tbody>\n",
       "</table>\n",
       "</div>"
      ],
      "text/plain": [
       "  Restaurant_id   City   Cuisine Style  Ranking Price Range  \\\n",
       "0          id_0  Paris  ['Bar', 'Pub']  12963.0    $$ - $$$   \n",
       "\n",
       "   Number of Reviews   Reviews  \\\n",
       "0                4.0  [[], []]   \n",
       "\n",
       "                                              URL_TA      ID_TA  \n",
       "0  /Restaurant_Review-g187147-d10746918-Reviews-L...  d10746918  "
      ]
     },
     "metadata": {},
     "output_type": "display_data"
    }
   ],
   "source": [
    "# Посмотрим на примеры из датасетов\n",
    "display(df_train.head(1))\n",
    "display(df_test.head(1))"
   ]
  },
  {
   "cell_type": "code",
   "execution_count": 164,
   "id": "4389f6bf",
   "metadata": {
    "scrolled": true
   },
   "outputs": [
    {
     "name": "stdout",
     "output_type": "stream",
     "text": [
      "<class 'pandas.core.frame.DataFrame'>\n",
      "RangeIndex: 10000 entries, 0 to 9999\n",
      "Data columns (total 2 columns):\n",
      " #   Column         Non-Null Count  Dtype  \n",
      "---  ------         --------------  -----  \n",
      " 0   Restaurant_id  10000 non-null  object \n",
      " 1   Rating         10000 non-null  float64\n",
      "dtypes: float64(1), object(1)\n",
      "memory usage: 156.4+ KB\n"
     ]
    },
    {
     "data": {
      "text/plain": [
       "None"
      ]
     },
     "metadata": {},
     "output_type": "display_data"
    },
    {
     "data": {
      "text/html": [
       "<div>\n",
       "<style scoped>\n",
       "    .dataframe tbody tr th:only-of-type {\n",
       "        vertical-align: middle;\n",
       "    }\n",
       "\n",
       "    .dataframe tbody tr th {\n",
       "        vertical-align: top;\n",
       "    }\n",
       "\n",
       "    .dataframe thead th {\n",
       "        text-align: right;\n",
       "    }\n",
       "</style>\n",
       "<table border=\"1\" class=\"dataframe\">\n",
       "  <thead>\n",
       "    <tr style=\"text-align: right;\">\n",
       "      <th></th>\n",
       "      <th>Restaurant_id</th>\n",
       "      <th>Rating</th>\n",
       "    </tr>\n",
       "  </thead>\n",
       "  <tbody>\n",
       "    <tr>\n",
       "      <th>0</th>\n",
       "      <td>id_0</td>\n",
       "      <td>2.0</td>\n",
       "    </tr>\n",
       "    <tr>\n",
       "      <th>1</th>\n",
       "      <td>id_1</td>\n",
       "      <td>2.5</td>\n",
       "    </tr>\n",
       "    <tr>\n",
       "      <th>2</th>\n",
       "      <td>id_2</td>\n",
       "      <td>4.0</td>\n",
       "    </tr>\n",
       "    <tr>\n",
       "      <th>3</th>\n",
       "      <td>id_3</td>\n",
       "      <td>1.0</td>\n",
       "    </tr>\n",
       "    <tr>\n",
       "      <th>4</th>\n",
       "      <td>id_4</td>\n",
       "      <td>4.0</td>\n",
       "    </tr>\n",
       "  </tbody>\n",
       "</table>\n",
       "</div>"
      ],
      "text/plain": [
       "  Restaurant_id  Rating\n",
       "0          id_0     2.0\n",
       "1          id_1     2.5\n",
       "2          id_2     4.0\n",
       "3          id_3     1.0\n",
       "4          id_4     4.0"
      ]
     },
     "metadata": {},
     "output_type": "display_data"
    }
   ],
   "source": [
    "# Посмотрим на sample_submission\n",
    "display(sample_submission.info())\n",
    "display(sample_submission.head())"
   ]
  },
  {
   "cell_type": "code",
   "execution_count": 165,
   "id": "c4f35d9f",
   "metadata": {},
   "outputs": [],
   "source": [
    "# Обединяем тренировочный и тестовые датасеты\n",
    "\n",
    "df_train['sample'] = 1 # добавляем столбец и помечаем третировочные данные\n",
    "df_test['sample'] = 0 # добавляем столбец и помечаем тестовые данные\n",
    "df_test['Rating'] = 0 # добавляем в тестовые данные столбец с целевой переменной и заполняем его '0'\n",
    "\n",
    "data = df_test.append(df_train).reset_index(drop=True)"
   ]
  },
  {
   "cell_type": "code",
   "execution_count": 166,
   "id": "4e8d38be",
   "metadata": {
    "scrolled": true
   },
   "outputs": [
    {
     "name": "stdout",
     "output_type": "stream",
     "text": [
      "<class 'pandas.core.frame.DataFrame'>\n",
      "RangeIndex: 50000 entries, 0 to 49999\n",
      "Data columns (total 11 columns):\n",
      " #   Column             Non-Null Count  Dtype  \n",
      "---  ------             --------------  -----  \n",
      " 0   Restaurant_id      50000 non-null  object \n",
      " 1   City               50000 non-null  object \n",
      " 2   Cuisine Style      38410 non-null  object \n",
      " 3   Ranking            50000 non-null  float64\n",
      " 4   Price Range        32639 non-null  object \n",
      " 5   Number of Reviews  46800 non-null  float64\n",
      " 6   Reviews            49998 non-null  object \n",
      " 7   URL_TA             50000 non-null  object \n",
      " 8   ID_TA              50000 non-null  object \n",
      " 9   sample             50000 non-null  int64  \n",
      " 10  Rating             50000 non-null  float64\n",
      "dtypes: float64(3), int64(1), object(7)\n",
      "memory usage: 4.2+ MB\n"
     ]
    }
   ],
   "source": [
    "# Посмотрим на результирующий датасет\n",
    "data.info()"
   ]
  },
  {
   "cell_type": "markdown",
   "id": "76bfcaf4",
   "metadata": {},
   "source": [
    "#### Что из себя представляют признаки:\n",
    "* Restaurant_id: ID ресторана\n",
    "* City: Город расположения ресторана\n",
    "* Cuisine Style: Представленная кухня\n",
    "* Ranking: Ранг ресторана в указанном городе\n",
    "* Price Range: ценовой диапазон из 3-х категорий\n",
    "* Number of Reviews: количество отзывов\n",
    "* Reviews: два последних отзыва с датами\n",
    "* URL_TA: URL странички ресторана на сайте\n",
    "* ID_TA: идентификатор ресторана в базе tripadvisor.com\n",
    "* Rating: рейтинг ресторана (целевая переменная)"
   ]
  },
  {
   "cell_type": "markdown",
   "id": "f22617be",
   "metadata": {},
   "source": [
    "## Разведывательный анализ данных (EDA)"
   ]
  },
  {
   "cell_type": "code",
   "execution_count": 167,
   "id": "84af3645",
   "metadata": {
    "scrolled": true
   },
   "outputs": [
    {
     "data": {
      "text/plain": [
       "Restaurant_id            0\n",
       "City                     0\n",
       "Cuisine Style         9283\n",
       "Ranking                  0\n",
       "Rating                   0\n",
       "Price Range          13886\n",
       "Number of Reviews     2543\n",
       "Reviews                  0\n",
       "URL_TA                   0\n",
       "ID_TA                    0\n",
       "sample                   0\n",
       "dtype: int64"
      ]
     },
     "execution_count": 167,
     "metadata": {},
     "output_type": "execute_result"
    }
   ],
   "source": [
    "# Смотрим на пропцщенные значения\n",
    "df_train.isna().sum()"
   ]
  },
  {
   "cell_type": "code",
   "execution_count": 168,
   "id": "269b3ce3",
   "metadata": {
    "scrolled": true
   },
   "outputs": [
    {
     "data": {
      "text/plain": [
       "<AxesSubplot:>"
      ]
     },
     "execution_count": 168,
     "metadata": {},
     "output_type": "execute_result"
    },
    {
     "data": {
      "image/png": "[encoded data removed]",
      "text/plain": [
       "<Figure size 1800x720 with 2 Axes>"
      ]
     },
     "metadata": {
      "needs_background": "light"
     },
     "output_type": "display_data"
    }
   ],
   "source": [
    "# Нарисуем пропущенные значения\n",
    "msno.matrix(df_train)"
   ]
  },
  {
   "cell_type": "code",
   "execution_count": 169,
   "id": "1154d1ee",
   "metadata": {
    "scrolled": true
   },
   "outputs": [
    {
     "data": {
      "text/plain": [
       "<AxesSubplot:>"
      ]
     },
     "execution_count": 169,
     "metadata": {},
     "output_type": "execute_result"
    },
    {
     "data": {
      "image/png": "[encoded data removed]",
      "text/plain": [
       "<Figure size 1440x864 with 2 Axes>"
      ]
     },
     "metadata": {
      "needs_background": "light"
     },
     "output_type": "display_data"
    }
   ],
   "source": [
    "msno.heatmap(df_train)"
   ]
  },
  {
   "cell_type": "markdown",
   "id": "aad9b0f0",
   "metadata": {},
   "source": [
    "В визуализации видна свзяь между пропущенными значениями в Cuisine Style и Price Range "
   ]
  },
  {
   "cell_type": "code",
   "execution_count": 170,
   "id": "ae70a0ec",
   "metadata": {},
   "outputs": [
    {
     "data": {
      "text/plain": [
       "9283"
      ]
     },
     "metadata": {},
     "output_type": "display_data"
    }
   ],
   "source": [
    "# Смотрим на совпадения пропущенных данных\n",
    "display(df_train['Restaurant_id'][df_train['Cuisine Style'].isna() & df_train['Price Range'].isna()].value_counts().sum())\n"
   ]
  },
  {
   "cell_type": "markdown",
   "id": "422769e5",
   "metadata": {},
   "source": [
    "Делаем вывод, что все пропущенные значения в Cuisine Style также отсутствуют в Price Range"
   ]
  },
  {
   "cell_type": "code",
   "execution_count": 171,
   "id": "ae899e05",
   "metadata": {
    "scrolled": true
   },
   "outputs": [
    {
     "data": {
      "text/plain": [
       "<AxesSubplot:>"
      ]
     },
     "execution_count": 171,
     "metadata": {},
     "output_type": "execute_result"
    },
    {
     "data": {
      "image/png": "[encoded data removed]",
      "text/plain": [
       "<Figure size 1080x720 with 1 Axes>"
      ]
     },
     "metadata": {
      "needs_background": "light"
     },
     "output_type": "display_data"
    }
   ],
   "source": [
    "# Смотрим на распределние ранга ресторанов\n",
    "df_train['Ranking'].hist(bins=200, figsize=(15, 10))"
   ]
  },
  {
   "cell_type": "code",
   "execution_count": 172,
   "id": "c12c6ddf",
   "metadata": {},
   "outputs": [
    {
     "data": {
      "text/plain": [
       "<AxesSubplot:>"
      ]
     },
     "execution_count": 172,
     "metadata": {},
     "output_type": "execute_result"
    },
    {
     "data": {
      "image/png": "[encoded data removed]",
      "text/plain": [
       "<Figure size 1080x720 with 1 Axes>"
      ]
     },
     "metadata": {
      "needs_background": "light"
     },
     "output_type": "display_data"
    }
   ],
   "source": [
    "# Теперь в разрезе городов\n",
    "df_train['City'].value_counts().plot(kind='bar', figsize=(15, 10))"
   ]
  },
  {
   "cell_type": "code",
   "execution_count": 173,
   "id": "08a8d520",
   "metadata": {
    "scrolled": true
   },
   "outputs": [
    {
     "data": {
      "image/png": "[encoded data removed]",
      "text/plain": [
       "<Figure size 1440x720 with 1 Axes>"
      ]
     },
     "metadata": {
      "needs_background": "light"
     },
     "output_type": "display_data"
    }
   ],
   "source": [
    "# Посмотрим распределение по кадому городу\n",
    "dims = (20, 10)\n",
    "\n",
    "fig, ax = plt.subplots(figsize=dims)\n",
    "\n",
    "ax = sns.boxplot(ax=ax, x=df_train['City'], y=df_train['Ranking'])"
   ]
  },
  {
   "cell_type": "code",
   "execution_count": 174,
   "id": "a4d8dc3e",
   "metadata": {},
   "outputs": [
    {
     "data": {
      "image/png": "[encoded data removed]",
      "text/plain": [
       "<Figure size 1080x720 with 1 Axes>"
      ]
     },
     "metadata": {
      "needs_background": "light"
     },
     "output_type": "display_data"
    }
   ],
   "source": [
    "# Посмотрим распределение по кадому городу в другом виде\n",
    "for item in df_train['City'].value_counts().index:\n",
    "    df_train['Ranking'][df_train['City'] == item].hist(bins=100, figsize=(15, 10))"
   ]
  },
  {
   "cell_type": "code",
   "execution_count": 175,
   "id": "4962a5bb",
   "metadata": {},
   "outputs": [
    {
     "data": {
      "text/plain": [
       "<AxesSubplot:>"
      ]
     },
     "execution_count": 175,
     "metadata": {},
     "output_type": "execute_result"
    },
    {
     "data": {
      "image/png": "[encoded data removed]",
      "text/plain": [
       "<Figure size 720x720 with 1 Axes>"
      ]
     },
     "metadata": {
      "needs_background": "light"
     },
     "output_type": "display_data"
    }
   ],
   "source": [
    "# Взглянем на распределние целевой переменной\n",
    "plt.rcParams[\"figure.figsize\"] = [10, 10]\n",
    "\n",
    "df_train['Rating'].value_counts(ascending=True).plot(kind='barh')"
   ]
  },
  {
   "cell_type": "code",
   "execution_count": 176,
   "id": "1f7cd004",
   "metadata": {
    "scrolled": true
   },
   "outputs": [
    {
     "data": {
      "text/plain": [
       "<AxesSubplot:>"
      ]
     },
     "execution_count": 176,
     "metadata": {},
     "output_type": "execute_result"
    },
    {
     "data": {
      "image/png": "[encoded data removed]",
      "text/plain": [
       "<Figure size 1080x1080 with 2 Axes>"
      ]
     },
     "metadata": {
      "needs_background": "light"
     },
     "output_type": "display_data"
    }
   ],
   "source": [
    "# Взглянем на корреляцию числовых данных\n",
    "fig, ax = plt.subplots(figsize=(15,15))\n",
    "sns.heatmap(data.drop(['sample'], axis=1).corr(), annot=True)"
   ]
  },
  {
   "cell_type": "markdown",
   "id": "1bb1d87c",
   "metadata": {},
   "source": [
    "## Очистка, подготовка и обогащение данных"
   ]
  },
  {
   "cell_type": "code",
   "execution_count": 177,
   "id": "01813fdd",
   "metadata": {
    "scrolled": true
   },
   "outputs": [
    {
     "name": "stdout",
     "output_type": "stream",
     "text": [
      "<class 'pandas.core.frame.DataFrame'>\n",
      "RangeIndex: 50000 entries, 0 to 49999\n",
      "Data columns (total 11 columns):\n",
      " #   Column             Non-Null Count  Dtype  \n",
      "---  ------             --------------  -----  \n",
      " 0   Restaurant_id      50000 non-null  object \n",
      " 1   City               50000 non-null  object \n",
      " 2   Cuisine Style      38410 non-null  object \n",
      " 3   Ranking            50000 non-null  float64\n",
      " 4   Price Range        32639 non-null  object \n",
      " 5   Number of Reviews  46800 non-null  float64\n",
      " 6   Reviews            49998 non-null  object \n",
      " 7   URL_TA             50000 non-null  object \n",
      " 8   ID_TA              50000 non-null  object \n",
      " 9   sample             50000 non-null  int64  \n",
      " 10  Rating             50000 non-null  float64\n",
      "dtypes: float64(3), int64(1), object(7)\n",
      "memory usage: 4.2+ MB\n"
     ]
    },
    {
     "data": {
      "text/plain": [
       "None"
      ]
     },
     "metadata": {},
     "output_type": "display_data"
    },
    {
     "data": {
      "text/plain": [
       "Index(['Restaurant_id', 'City', 'Cuisine Style', 'Ranking', 'Price Range',\n",
       "       'Number of Reviews', 'Reviews', 'URL_TA', 'ID_TA', 'sample', 'Rating'],\n",
       "      dtype='object')"
      ]
     },
     "metadata": {},
     "output_type": "display_data"
    }
   ],
   "source": [
    "# Снова посмотрим на датасет\n",
    "display(data.info())\n",
    "display(data.columns)"
   ]
  },
  {
   "cell_type": "code",
   "execution_count": 178,
   "id": "f653cf97",
   "metadata": {},
   "outputs": [],
   "source": [
    "# Переименум столбцы для удобства\n",
    "data.columns = ['restaurant_id', 'city', 'cuisine_style', 'ranking', 'price_range', \n",
    "                'number_of_reviews', 'reviews', 'url_ta', 'id_ta', 'sample', 'rating']\n",
    "\n",
    "# Исправим название города\n",
    "data.city[data.city == 'Oporto'] = 'Porto'"
   ]
  },
  {
   "cell_type": "code",
   "execution_count": 179,
   "id": "d894b697",
   "metadata": {
    "scrolled": true
   },
   "outputs": [
    {
     "data": {
      "text/plain": [
       "$$ - $$$    23041\n",
       "$            7816\n",
       "$$$$         1782\n",
       "Name: price_range, dtype: int64"
      ]
     },
     "execution_count": 179,
     "metadata": {},
     "output_type": "execute_result"
    }
   ],
   "source": [
    "# Смотрим на price_range\n",
    "data.price_range.value_counts()"
   ]
  },
  {
   "cell_type": "code",
   "execution_count": 180,
   "id": "2e39ea81",
   "metadata": {
    "scrolled": true
   },
   "outputs": [],
   "source": [
    "# Заполним пропуски в Price Range наиболее частым значением, также видно,\n",
    "# что ценовые диапазоны можно представить порядковыми признаками\n",
    "# \n",
    "# $ как 1\n",
    "# $$ - $$$ как 2\n",
    "# $$$$ как 3\n",
    "\n",
    "data.price_range = data.price_range.astype(str).apply(lambda x: 1 if x == '$' else 2 if x == '$$ - $$$' else 3 if x == '$$$$'\n",
    "                                          else 2 if x == 'nan' else x)\n"
   ]
  },
  {
   "cell_type": "code",
   "execution_count": 181,
   "id": "287b8c6d",
   "metadata": {},
   "outputs": [],
   "source": [
    "# Заполним пропущенные значения в кухнях на 'Other'\n",
    "\n",
    "data.cuisine_style[data.cuisine_style.isna()] = 'Other'"
   ]
  },
  {
   "cell_type": "code",
   "execution_count": 182,
   "id": "8d973391",
   "metadata": {},
   "outputs": [
    {
     "data": {
      "text/plain": [
       "restaurant_id        0\n",
       "city                 0\n",
       "cuisine_style        0\n",
       "ranking              0\n",
       "price_range          0\n",
       "number_of_reviews    0\n",
       "reviews              2\n",
       "url_ta               0\n",
       "id_ta                0\n",
       "sample               0\n",
       "rating               0\n",
       "dtype: int64"
      ]
     },
     "metadata": {},
     "output_type": "display_data"
    }
   ],
   "source": [
    "# Пропущенные значения в Number Of Reviews заполним средними значениями для города\n",
    "\n",
    "\n",
    "review_mean = data.groupby('city')['number_of_reviews'].mean()\n",
    "\n",
    "data.number_of_reviews.fillna(value=0, inplace=True)\n",
    "\n",
    "data['number_of_reviews'] = data.apply(lambda row: review_mean[row['city']] if row['number_of_reviews'] == 0\n",
    "                                                           else row['number_of_reviews'], axis=1)\n",
    "display(data.isna().sum())"
   ]
  },
  {
   "cell_type": "code",
   "execution_count": 183,
   "id": "edc8dfa6",
   "metadata": {
    "scrolled": true
   },
   "outputs": [
    {
     "data": {
      "text/html": [
       "<div>\n",
       "<style scoped>\n",
       "    .dataframe tbody tr th:only-of-type {\n",
       "        vertical-align: middle;\n",
       "    }\n",
       "\n",
       "    .dataframe tbody tr th {\n",
       "        vertical-align: top;\n",
       "    }\n",
       "\n",
       "    .dataframe thead th {\n",
       "        text-align: right;\n",
       "    }\n",
       "</style>\n",
       "<table border=\"1\" class=\"dataframe\">\n",
       "  <thead>\n",
       "    <tr style=\"text-align: right;\">\n",
       "      <th></th>\n",
       "      <th>restaurant_id</th>\n",
       "      <th>city</th>\n",
       "      <th>cuisine_style</th>\n",
       "      <th>ranking</th>\n",
       "      <th>price_range</th>\n",
       "      <th>number_of_reviews</th>\n",
       "      <th>reviews</th>\n",
       "      <th>url_ta</th>\n",
       "      <th>id_ta</th>\n",
       "      <th>sample</th>\n",
       "      <th>rating</th>\n",
       "    </tr>\n",
       "  </thead>\n",
       "  <tbody>\n",
       "    <tr>\n",
       "      <th>46535</th>\n",
       "      <td>id_9092</td>\n",
       "      <td>London</td>\n",
       "      <td>['Seafood']</td>\n",
       "      <td>9101.0</td>\n",
       "      <td>2</td>\n",
       "      <td>2.0</td>\n",
       "      <td>[['Excellent takeaway', 'Best fish and chips!'...</td>\n",
       "      <td>/Restaurant_Review-g186338-d7275902-Reviews-Gr...</td>\n",
       "      <td>d7275902</td>\n",
       "      <td>1</td>\n",
       "      <td>5.0</td>\n",
       "    </tr>\n",
       "  </tbody>\n",
       "</table>\n",
       "</div>"
      ],
      "text/plain": [
       "      restaurant_id    city cuisine_style  ranking  price_range  \\\n",
       "46535       id_9092  London   ['Seafood']   9101.0            2   \n",
       "\n",
       "       number_of_reviews                                            reviews  \\\n",
       "46535                2.0  [['Excellent takeaway', 'Best fish and chips!'...   \n",
       "\n",
       "                                                  url_ta     id_ta  sample  \\\n",
       "46535  /Restaurant_Review-g186338-d7275902-Reviews-Gr...  d7275902       1   \n",
       "\n",
       "       rating  \n",
       "46535     5.0  "
      ]
     },
     "execution_count": 183,
     "metadata": {},
     "output_type": "execute_result"
    }
   ],
   "source": [
    "# Посмотрим на результат\n",
    "data.sample()"
   ]
  },
  {
   "cell_type": "code",
   "execution_count": 184,
   "id": "c37de38a",
   "metadata": {},
   "outputs": [],
   "source": [
    "#\n",
    "# Поработаем с городами, добавим несколько новых признаков, а также посмотрим на ID_TA\n",
    "#\n",
    "# Добавим данные о населении\n",
    "data['population'] = data.city.apply(lambda x: cities.loc[x].population)\n",
    "\n",
    "# Добавим бинарный признак столица - не столица\n",
    "data['is_capital'] = data.city.apply(lambda x: cities.loc[x].is_capital)\n",
    "\n",
    "# Посчитаем количество ресторанов в городе\n",
    "rest_count = pd.DataFrame(data.groupby('city')['ranking'].count())\n",
    "\n",
    "# Добавим признак количества ресторанов в датафрейм\n",
    "data['rest_in_city'] = data.city.apply(lambda x: rest_count.loc[x].ranking)\n",
    "\n",
    "# Добавим соотношение населения к количеству ресторанов\n",
    "data['pop_by_rest'] = data['population'] / data['rest_in_city']\n",
    "\n",
    "# Добавим соотношение населения к количеству отзывов\n",
    "data['pop_by_review'] = data['number_of_reviews'] / data['population']\n",
    "\n",
    "# Добавим ранк ресторана в соотношении к количеству ресторанов в городе\n",
    "data['rank_by_city'] = data['ranking'] / data['rest_in_city']\n",
    "\n",
    "# Обработаем ID_TA\n",
    "\n",
    "data['id_ta'] = data['id_ta'].apply(lambda x: x[1:]) # убираем префикс 'd'\n",
    "data['id_ta'] = data['id_ta'].apply(lambda x: int(x)) # приводим значения в тип int"
   ]
  },
  {
   "cell_type": "code",
   "execution_count": 185,
   "id": "93b97323",
   "metadata": {
    "scrolled": true
   },
   "outputs": [
    {
     "data": {
      "text/html": [
       "<div>\n",
       "<style scoped>\n",
       "    .dataframe tbody tr th:only-of-type {\n",
       "        vertical-align: middle;\n",
       "    }\n",
       "\n",
       "    .dataframe tbody tr th {\n",
       "        vertical-align: top;\n",
       "    }\n",
       "\n",
       "    .dataframe thead th {\n",
       "        text-align: right;\n",
       "    }\n",
       "</style>\n",
       "<table border=\"1\" class=\"dataframe\">\n",
       "  <thead>\n",
       "    <tr style=\"text-align: right;\">\n",
       "      <th></th>\n",
       "      <th>restaurant_id</th>\n",
       "      <th>city</th>\n",
       "      <th>cuisine_style</th>\n",
       "      <th>ranking</th>\n",
       "      <th>price_range</th>\n",
       "      <th>number_of_reviews</th>\n",
       "      <th>reviews</th>\n",
       "      <th>url_ta</th>\n",
       "      <th>id_ta</th>\n",
       "      <th>sample</th>\n",
       "      <th>rating</th>\n",
       "      <th>population</th>\n",
       "      <th>is_capital</th>\n",
       "      <th>rest_in_city</th>\n",
       "      <th>pop_by_rest</th>\n",
       "      <th>pop_by_review</th>\n",
       "      <th>rank_by_city</th>\n",
       "    </tr>\n",
       "  </thead>\n",
       "  <tbody>\n",
       "    <tr>\n",
       "      <th>11999</th>\n",
       "      <td>id_879</td>\n",
       "      <td>Milan</td>\n",
       "      <td>['Italian', 'Mediterranean', 'European', 'Deli...</td>\n",
       "      <td>881.0</td>\n",
       "      <td>3</td>\n",
       "      <td>333.0</td>\n",
       "      <td>[['quite good but a bit overpriced', 'Truffle ...</td>\n",
       "      <td>/Restaurant_Review-g187849-d7303001-Reviews-Ta...</td>\n",
       "      <td>7303001</td>\n",
       "      <td>1</td>\n",
       "      <td>4.0</td>\n",
       "      <td>1366180</td>\n",
       "      <td>0</td>\n",
       "      <td>2694</td>\n",
       "      <td>507.119525</td>\n",
       "      <td>0.000244</td>\n",
       "      <td>0.327023</td>\n",
       "    </tr>\n",
       "  </tbody>\n",
       "</table>\n",
       "</div>"
      ],
      "text/plain": [
       "      restaurant_id   city                                      cuisine_style  \\\n",
       "11999        id_879  Milan  ['Italian', 'Mediterranean', 'European', 'Deli...   \n",
       "\n",
       "       ranking  price_range  number_of_reviews  \\\n",
       "11999    881.0            3              333.0   \n",
       "\n",
       "                                                 reviews  \\\n",
       "11999  [['quite good but a bit overpriced', 'Truffle ...   \n",
       "\n",
       "                                                  url_ta    id_ta  sample  \\\n",
       "11999  /Restaurant_Review-g187849-d7303001-Reviews-Ta...  7303001       1   \n",
       "\n",
       "       rating  population  is_capital  rest_in_city  pop_by_rest  \\\n",
       "11999     4.0     1366180           0          2694   507.119525   \n",
       "\n",
       "       pop_by_review  rank_by_city  \n",
       "11999       0.000244      0.327023  "
      ]
     },
     "execution_count": 185,
     "metadata": {},
     "output_type": "execute_result"
    }
   ],
   "source": [
    "data.sample()"
   ]
  },
  {
   "cell_type": "code",
   "execution_count": 186,
   "id": "51384657",
   "metadata": {},
   "outputs": [],
   "source": [
    "# Работаем с набором кухонь\n",
    "\n",
    "data['cuisine_style'] = data['cuisine_style'].astype(str).apply(lambda x: x.replace(\"[\", \"\"))\n",
    "data['cuisine_style'] = data['cuisine_style'].astype(str).apply(lambda x: x.replace(\"]\", \"\"))\n",
    "data['cuisine_style'] = data['cuisine_style'].astype(str).apply(lambda x: x.replace(\"'\", \"\"))\n",
    "data['cuisine_style'] = data['cuisine_style'].astype(str).apply(lambda x: x.split(', '))\n",
    "\n",
    "# Добавим вспомогательный датасет\n",
    "support_df = data.explode('cuisine_style')\n"
   ]
  },
  {
   "cell_type": "code",
   "execution_count": 187,
   "id": "a4f07d17",
   "metadata": {},
   "outputs": [],
   "source": [
    "# Создаем списки из уникальных кухонь и городов\n",
    "cui_style_set = set(support_df.cuisine_style)\n",
    "\n",
    "city_set = set(support_df.city)"
   ]
  },
  {
   "cell_type": "code",
   "execution_count": 188,
   "id": "2eabd03a",
   "metadata": {},
   "outputs": [],
   "source": [
    "# Объявим функцию, которая будет проставлять 0 или 1 в зависимости от присутствия кухни в списке\n",
    "def find_item(cell):\n",
    "    if item in cell:\n",
    "        return 1\n",
    "    return 0\n",
    "\n",
    "# Добавим Dummy для кухонь\n",
    "for item in cui_style_set:\n",
    "    data['cuisine_'+item] = data['cuisine_style'].apply(find_item)\n",
    "    \n",
    "# Добавим Dummy для городов\n",
    "for item in city_set:\n",
    "    data['city_'+item] = data['city'].apply(find_item)\n",
    "\n",
    "# Добавим еще один признак - количество кухонь для ресторана\n",
    "data['number_of_cui'] = data.cuisine_style.apply(len)\n"
   ]
  },
  {
   "cell_type": "code",
   "execution_count": 189,
   "id": "f4b7c53e",
   "metadata": {},
   "outputs": [],
   "source": [
    "# Удалим из датасета нечисловые столбцы\n",
    "\n",
    "object_columns = [x for x in data.columns if data[x].dtype == 'object']\n",
    "\n",
    "data.drop(object_columns, axis=1, inplace=True)"
   ]
  },
  {
   "cell_type": "code",
   "execution_count": 190,
   "id": "1d0e913f",
   "metadata": {},
   "outputs": [],
   "source": [
    "# Выбираем из датасета данные для обучения и тестирования\n",
    "train_data = data.query('sample == 1').drop(['sample'], axis=1)\n",
    "test_data = data.query('sample == 0').drop(['sample'], axis=1)\n",
    "\n",
    "y = train_data.rating.values\n",
    "X = train_data.drop(['rating'], axis=1)"
   ]
  },
  {
   "cell_type": "code",
   "execution_count": 191,
   "id": "efb52ae5",
   "metadata": {
    "scrolled": true
   },
   "outputs": [
    {
     "data": {
      "text/plain": [
       "((10000, 169), (30000, 168), (10000, 168), (30000,), (10000,))"
      ]
     },
     "execution_count": 191,
     "metadata": {},
     "output_type": "execute_result"
    }
   ],
   "source": [
    "X_train, X_test, y_train, y_test = train_test_split(X, y, test_size=0.25, random_state=RANDOM_SEED)\n",
    "\n",
    "test_data.shape, X_train.shape, X_test.shape, y_train.shape, y_test.shape"
   ]
  },
  {
   "cell_type": "markdown",
   "id": "564c25d7",
   "metadata": {},
   "source": [
    "## Создаём, обучаем и тестируем модель"
   ]
  },
  {
   "cell_type": "code",
   "execution_count": 208,
   "id": "4b8db0a9",
   "metadata": {},
   "outputs": [
    {
     "data": {
      "text/plain": [
       "RandomForestRegressor(random_state=42)"
      ]
     },
     "execution_count": 208,
     "metadata": {},
     "output_type": "execute_result"
    }
   ],
   "source": [
    "# Создаем модель\n",
    "regr = RandomForestRegressor(n_estimators=100, random_state=RANDOM_SEED)\n",
    "\n",
    "# Обучаем подель\n",
    "regr.fit(X_train, y_train)"
   ]
  },
  {
   "cell_type": "code",
   "execution_count": 209,
   "id": "64d2c1e8",
   "metadata": {},
   "outputs": [],
   "source": [
    "# Используем обученную модель для предсказания рейтинга ресторанов в тестовой выборке.\n",
    "# Предсказанные значения записываем в переменную y_pred\n",
    "\n",
    "y_pred = regr.predict(X_test)"
   ]
  },
  {
   "cell_type": "code",
   "execution_count": 210,
   "id": "4725dbd4",
   "metadata": {},
   "outputs": [
    {
     "name": "stdout",
     "output_type": "stream",
     "text": [
      "MAE: 0.21120049999999996\n"
     ]
    }
   ],
   "source": [
    "# Сравниваем предсказанные значения (y_pred) с реальными (y_test), и смотрим насколько они в среднем отличаются\n",
    "# Метрика называется Mean Absolute Error (MAE) и показывает среднее отклонение предсказанных значений от фактических.\n",
    "\n",
    "print('MAE:', metrics.mean_absolute_error(y_test, y_pred))"
   ]
  },
  {
   "cell_type": "markdown",
   "id": "62a1fe6b",
   "metadata": {},
   "source": [
    "## Готовим submission на kaggle"
   ]
  },
  {
   "cell_type": "code",
   "execution_count": 217,
   "id": "9bfcdd85",
   "metadata": {},
   "outputs": [],
   "source": [
    "X_submission = data.query('sample == 0').drop(['sample', 'rating'], axis=1)"
   ]
  },
  {
   "cell_type": "code",
   "execution_count": 214,
   "id": "f01e4f9a",
   "metadata": {},
   "outputs": [],
   "source": [
    "def round_of_rating(item):\n",
    "    return np.round(item * 2) / 2"
   ]
  },
  {
   "cell_type": "code",
   "execution_count": 221,
   "id": "a800d728",
   "metadata": {},
   "outputs": [
    {
     "data": {
      "text/plain": [
       "array([3. , 4. , 4. , ..., 3. , 4.5, 4. ])"
      ]
     },
     "execution_count": 221,
     "metadata": {},
     "output_type": "execute_result"
    }
   ],
   "source": [
    "y_pred_submission = round_of_rating(regr.predict(X_submission))"
   ]
  },
  {
   "cell_type": "code",
   "execution_count": 228,
   "id": "03c369b1",
   "metadata": {},
   "outputs": [],
   "source": [
    "submission_df = pd.DataFrame()\n",
    "submission_df['Restaurant_id'] = df_test['Restaurant_id']\n",
    "submission_df['Rating'] = y_pred_submission\n",
    "submission_df.to_csv('submission_2.csv', index=False)"
   ]
  }
 ],
 "metadata": {
  "kernelspec": {
   "display_name": "Python 3",
   "language": "python",
   "name": "python3"
  },
  "language_info": {
   "codemirror_mode": {
    "name": "ipython",
    "version": 3
   },
   "file_extension": ".py",
   "mimetype": "text/x-python",
   "name": "python",
   "nbconvert_exporter": "python",
   "pygments_lexer": "ipython3",
   "version": "3.8.10"
  }
 },
 "nbformat": 4,
 "nbformat_minor": 5
}
